{
  "nbformat": 4,
  "nbformat_minor": 0,
  "metadata": {
    "colab": {
      "provenance": []
    },
    "kernelspec": {
      "name": "python3",
      "display_name": "Python 3"
    },
    "language_info": {
      "name": "python"
    }
  },
  "cells": [
    {
      "cell_type": "markdown",
      "source": [
        "#**Tarefa 1 - Medição de Tempo de Reação**\n",
        "**Objetivo**: desenvolver uma solução para medir o tempo de reação de um usuário."
      ],
      "metadata": {
        "id": "Mp6b9MojsVMM"
      }
    },
    {
      "cell_type": "code",
      "execution_count": null,
      "metadata": {
        "colab": {
          "base_uri": "https://localhost:8080/"
        },
        "id": "xod50IFD7hjh",
        "outputId": "72fe0163-6260-408a-d46f-e92290c3bc99"
      },
      "outputs": [
        {
          "output_type": "stream",
          "name": "stdout",
          "text": [
            "Olá! Qual é o seu nome? pablo\n",
            "\n",
            "Letra: o\n",
            "Digite a letra que você viu: d\n",
            "Tempo de Reação: 3.02 segundos\n",
            "\n",
            "Letra: a\n",
            "Digite a letra que você viu: a\n",
            "Tempo de Reação: 2.46 segundos\n",
            "\n",
            "Letra: p\n",
            "Digite a letra que você viu: h\n",
            "Tempo de Reação: 3.5 segundos\n",
            "\n",
            "Letra: b\n",
            "Digite a letra que você viu: b\n",
            "Tempo de Reação: 2.05 segundos\n",
            "\n",
            "Letra: l\n",
            "Digite a letra que você viu: l\n",
            "Tempo de Reação: 1.78 segundos\n",
            "\n",
            "--- Dados Estatísticos ---\n",
            "Média dos Tempos de Reação: 2.56 segundos\n",
            "Desvio Padrão dos Tempos de Reação: 0.7 segundos\n",
            "Precisão: 3/5 (60.00%)\n"
          ]
        }
      ],
      "source": [
        "import time\n",
        "import random\n",
        "import statistics\n",
        "\n",
        "#Aluno: Pablo Durkheim Fernandes do Nascimento\n",
        "\n",
        "def main():\n",
        "\n",
        "    nome = input(\"Olá! Qual é o seu nome? \")\n",
        "\n",
        "    # Embaralha as letras do nome do usuário\n",
        "    letras_nome = list(nome)\n",
        "    random.shuffle(letras_nome)\n",
        "\n",
        "    # Lista para armazenar os tempos de reação e respostas\n",
        "    tempos_de_reacao = []\n",
        "    respostas_corretas = 0\n",
        "\n",
        "    # Exibe as letras do nome do usuário em sequência\n",
        "    for letra in letras_nome:\n",
        "        print(\"\\nLetra:\", letra)\n",
        "        start_time = time.perf_counter()  # Inicia o temporizador\n",
        "        resposta = input(\"Digite a letra que você viu: \")\n",
        "        reaction_time = time.perf_counter() - start_time  # Calcula o tempo de reação\n",
        "\n",
        "        resposta = resposta.strip().lower()\n",
        "\n",
        "        # Verifica se o usuário digitou a letra correta\n",
        "        if resposta == letra.lower():\n",
        "            respostas_corretas += 1\n",
        "\n",
        "        print(\"Tempo de Reação:\", round(reaction_time, 2), \"segundos\")\n",
        "        tempos_de_reacao.append(reaction_time)  # Adiciona o tempo de reação à lista\n",
        "\n",
        "    # Calcula a precisão do usuário\n",
        "    total_letras = len(letras_nome)\n",
        "    precisao = respostas_corretas / total_letras if total_letras > 0 else 0\n",
        "\n",
        "    # Calcula e exibe dados estatísticos e precisão\n",
        "    if tempos_de_reacao:\n",
        "        media_tempo_reacao = statistics.mean(tempos_de_reacao)\n",
        "        desvio_padrao_tempo_reacao = statistics.stdev(tempos_de_reacao)\n",
        "        print(\"\\n--- Dados Estatísticos ---\")\n",
        "        print(\"Média dos Tempos de Reação:\", round(media_tempo_reacao, 2), \"segundos\")\n",
        "        print(\"Desvio Padrão dos Tempos de Reação:\", round(desvio_padrao_tempo_reacao, 2), \"segundos\")\n",
        "        print(\"Precisão:\", f\"{respostas_corretas}/{total_letras} ({precisao:.2%})\")\n",
        "    else:\n",
        "        print(\"\\nNenhum dado estatístico disponível, pois nenhum tempo de reação foi registrado.\")\n",
        "\n",
        "if __name__ == \"__main__\":\n",
        "    main()\n"
      ]
    }
  ]
}